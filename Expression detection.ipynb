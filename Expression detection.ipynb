{
 "cells": [
  {
   "cell_type": "markdown",
   "metadata": {},
   "source": [
    "## Expression Detection"
   ]
  },
  {
   "cell_type": "code",
   "execution_count": 4,
   "metadata": {},
   "outputs": [],
   "source": [
    "#pip install opencv-python keras"
   ]
  },
  {
   "cell_type": "code",
   "execution_count": 5,
   "metadata": {},
   "outputs": [],
   "source": [
    "#pip install numpy tensorflow\n"
   ]
  },
  {
   "cell_type": "markdown",
   "metadata": {},
   "source": [
    "### Required Libraries"
   ]
  },
  {
   "cell_type": "code",
   "execution_count": 6,
   "metadata": {},
   "outputs": [],
   "source": [
    "import cv2\n",
    "import numpy as np\n",
    "from keras.models import load_model\n",
    "from keras.optimizers import Adam\n",
    "import json\n",
    "import pymongo\n",
    "from datetime import datetime\n"
   ]
  },
  {
   "cell_type": "markdown",
   "metadata": {},
   "source": [
    "### MongoDB connection setup"
   ]
  },
  {
   "cell_type": "code",
   "execution_count": 7,
   "metadata": {},
   "outputs": [],
   "source": [
    "\n",
    "client = pymongo.MongoClient(\"mongodb://localhost:27017/\")\n",
    "db = client[\"emotion_detection_db\"]\n",
    "collection = db[\"emotion_results\"]\n"
   ]
  },
  {
   "cell_type": "markdown",
   "metadata": {},
   "source": [
    "### Loading the model "
   ]
  },
  {
   "cell_type": "code",
   "execution_count": 8,
   "metadata": {},
   "outputs": [],
   "source": [
    "def custom_load_model(model_path):\n",
    "    model = load_model(model_path, compile=False)\n",
    "    model.compile(optimizer=Adam(learning_rate=0.0001), loss='categorical_crossentropy', metrics=['accuracy'])\n",
    "    return model\n",
    "\n",
    "model_path = 'fer2013_mini_XCEPTION.102-0.66.hdf5'\n",
    "model = custom_load_model(model_path)"
   ]
  },
  {
   "cell_type": "markdown",
   "metadata": {},
   "source": [
    "\n",
    "### Function to detect emotion and return results"
   ]
  },
  {
   "cell_type": "code",
   "execution_count": 9,
   "metadata": {},
   "outputs": [],
   "source": [
    "\n",
    "# Emotion labels\n",
    "emotion_labels = ['Angry', 'Disgust', 'Fear', 'Happy', 'Sad', 'Surprise', 'Neutral']\n",
    "\n",
    "\n",
    "def detect_emotion(frame):\n",
    "    gray_frame = cv2.cvtColor(frame, cv2.COLOR_BGR2GRAY)\n",
    "    face_cascade = cv2.CascadeClassifier(cv2.data.haarcascades + 'haarcascade_frontalface_default.xml')\n",
    "    faces = face_cascade.detectMultiScale(gray_frame, scaleFactor=1.1, minNeighbors=5)\n",
    "    \n",
    "    detected_emotions = []\n",
    "\n",
    "    for (x, y, w, h) in faces:\n",
    "        roi_gray = gray_frame[y:y + h, x:x + w]\n",
    "        roi_gray = cv2.resize(roi_gray, (64, 64))  \n",
    "        roi_gray = roi_gray.astype('float32') / 255\n",
    "        roi_gray = np.expand_dims(roi_gray, axis=-1)  \n",
    "        roi_gray = np.expand_dims(roi_gray, axis=0)  \n",
    "        preds = model.predict(roi_gray)[0]\n",
    "        emotion = emotion_labels[np.argmax(preds)]\n",
    "        detected_emotions.append({\n",
    "            \"emotion\": emotion,\n",
    "            \"location\": {\n",
    "                \"x\": int(x),\n",
    "                \"y\": int(y),\n",
    "                \"width\": int(w),\n",
    "                \"height\": int(h)\n",
    "            }\n",
    "        })\n",
    "\n",
    "    return detected_emotions\n",
    "\n"
   ]
  },
  {
   "cell_type": "markdown",
   "metadata": {},
   "source": [
    "### Load and process the image"
   ]
  },
  {
   "cell_type": "code",
   "execution_count": 10,
   "metadata": {},
   "outputs": [],
   "source": [
    "\n",
    "def process_image(image_path):\n",
    "    image = cv2.imread(image_path)\n",
    "    if image is None:\n",
    "        print(\"Error: Image not found.\")\n",
    "        return\n",
    "    emotions = detect_emotion(image)\n",
    "    \n",
    "    # Create a JSON structure\n",
    "    result_json = {\n",
    "        \"image_path\": image_path,\n",
    "        \"timestamp\": datetime.now().isoformat(),\n",
    "        \"detected_emotions\": emotions\n",
    "    }\n",
    "\n",
    "    # Store in MongoDB\n",
    "    collection.insert_one(result_json)\n",
    "    print(f\"Results stored in MongoDB for image: {image_path}\")\n"
   ]
  },
  {
   "cell_type": "markdown",
   "metadata": {},
   "source": [
    "### Usage"
   ]
  },
  {
   "cell_type": "code",
   "execution_count": 11,
   "metadata": {},
   "outputs": [
    {
     "name": "stdout",
     "output_type": "stream",
     "text": [
      "\u001b[1m1/1\u001b[0m \u001b[32m━━━━━━━━━━━━━━━━━━━━\u001b[0m\u001b[37m\u001b[0m \u001b[1m0s\u001b[0m 255ms/step\n",
      "Results stored in MongoDB for image: smile.jpg\n"
     ]
    }
   ],
   "source": [
    "\n",
    "image_path = 'smile.jpg' \n",
    "process_image(image_path)"
   ]
  }
 ],
 "metadata": {
  "kernelspec": {
   "display_name": "base",
   "language": "python",
   "name": "python3"
  },
  "language_info": {
   "codemirror_mode": {
    "name": "ipython",
    "version": 3
   },
   "file_extension": ".py",
   "mimetype": "text/x-python",
   "name": "python",
   "nbconvert_exporter": "python",
   "pygments_lexer": "ipython3",
   "version": "3.11.4"
  }
 },
 "nbformat": 4,
 "nbformat_minor": 2
}
